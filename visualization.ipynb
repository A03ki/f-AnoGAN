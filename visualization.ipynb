{
  "nbformat": 4,
  "nbformat_minor": 0,
  "metadata": {
    "colab": {
      "name": "visualization.ipynb",
      "provenance": [],
      "collapsed_sections": []
    },
    "kernelspec": {
      "name": "python3",
      "display_name": "Python 3"
    },
    "accelerator": "GPU"
  },
  "cells": [
    {
      "cell_type": "markdown",
      "metadata": {
        "id": "I2zfet28eX0c",
        "colab_type": "text"
      },
      "source": [
        "### Step 0:\n",
        "\n",
        "If your computer don't install `torch` and `torchvision` yet, please run below or see [Start Locally | PyTorch](https://pytorch.org/get-started/locally/#start-locally)"
      ]
    },
    {
      "cell_type": "code",
      "metadata": {
        "id": "ZcP9Yyx7eVfN",
        "colab_type": "code",
        "colab": {}
      },
      "source": [
        "!pip install torch torchvision"
      ],
      "execution_count": 0,
      "outputs": []
    },
    {
      "cell_type": "markdown",
      "metadata": {
        "id": "YGI9NTKbejLE",
        "colab_type": "text"
      },
      "source": [
        "Also, `matplotlib`, `numpy`, `pandas` and `sklearn` will be used.  \n",
        "If your computer don't install these, please run below."
      ]
    },
    {
      "cell_type": "code",
      "metadata": {
        "id": "vyb-jNlLegvb",
        "colab_type": "code",
        "colab": {}
      },
      "source": [
        "!pip install matplotlib numpy pandas sklearn"
      ],
      "execution_count": 0,
      "outputs": []
    },
    {
      "cell_type": "markdown",
      "metadata": {
        "id": "dN5mOyGyUP-B",
        "colab_type": "text"
      },
      "source": [
        "### Step: 1\n",
        "\n",
        "If you don't run command `python train_wgangp.py` yet, please run below."
      ]
    },
    {
      "cell_type": "code",
      "metadata": {
        "id": "tTV9PqA-Hmsy",
        "colab_type": "code",
        "colab": {}
      },
      "source": [
        "!python train_wgangp.py --training_label 1"
      ],
      "execution_count": 0,
      "outputs": []
    },
    {
      "cell_type": "markdown",
      "metadata": {
        "id": "JMaJ4gB1UVzH",
        "colab_type": "text"
      },
      "source": [
        "### Step: 2\n",
        "If you don't run command `train_z_encoding_izif.py` yet, please run below after Step: 1."
      ]
    },
    {
      "cell_type": "code",
      "metadata": {
        "id": "6V_MiML_PDR7",
        "colab_type": "code",
        "colab": {}
      },
      "source": [
        "!python train_encoder_izif.py --training_label 1"
      ],
      "execution_count": 0,
      "outputs": []
    },
    {
      "cell_type": "markdown",
      "metadata": {
        "id": "KMH6Ex6UUceG",
        "colab_type": "text"
      },
      "source": [
        "### Step: 3  \n",
        "If you don't run command `test_anomaly_detection.py` yet, please run below after Step: 2."
      ]
    },
    {
      "cell_type": "code",
      "metadata": {
        "id": "FWe_z02kRPB5",
        "colab_type": "code",
        "colab": {}
      },
      "source": [
        "!python test_anomaly_detection.py --training_label 1"
      ],
      "execution_count": 0,
      "outputs": []
    },
    {
      "cell_type": "markdown",
      "metadata": {
        "id": "0b57fMtdU5A0",
        "colab_type": "text"
      },
      "source": [
        "# Visualization\n",
        "\n",
        "Please run below after Step: 1~3."
      ]
    },
    {
      "cell_type": "code",
      "metadata": {
        "id": "dqzx_tQLSnTD",
        "colab_type": "code",
        "colab": {}
      },
      "source": [
        "import matplotlib.pyplot as plt\n",
        "import numpy as np\n",
        "import pandas as pd\n",
        "from sklearn.metrics import roc_curve, auc"
      ],
      "execution_count": 0,
      "outputs": []
    },
    {
      "cell_type": "code",
      "metadata": {
        "id": "aKiMg3gVTmPL",
        "colab_type": "code",
        "colab": {
          "base_uri": "https://localhost:8080/",
          "height": 419
        },
        "outputId": "dd6de992-de27-4af0-c2d1-1471916370cb"
      },
      "source": [
        "df = pd.read_csv(\"results/score.csv\")\n",
        "df"
      ],
      "execution_count": 2,
      "outputs": [
        {
          "output_type": "execute_result",
          "data": {
            "text/html": [
              "<div>\n",
              "<style scoped>\n",
              "    .dataframe tbody tr th:only-of-type {\n",
              "        vertical-align: middle;\n",
              "    }\n",
              "\n",
              "    .dataframe tbody tr th {\n",
              "        vertical-align: top;\n",
              "    }\n",
              "\n",
              "    .dataframe thead th {\n",
              "        text-align: right;\n",
              "    }\n",
              "</style>\n",
              "<table border=\"1\" class=\"dataframe\">\n",
              "  <thead>\n",
              "    <tr style=\"text-align: right;\">\n",
              "      <th></th>\n",
              "      <th>label</th>\n",
              "      <th>img_distance</th>\n",
              "      <th>anomaly_score</th>\n",
              "      <th>z_distance</th>\n",
              "    </tr>\n",
              "  </thead>\n",
              "  <tbody>\n",
              "    <tr>\n",
              "      <th>0</th>\n",
              "      <td>1</td>\n",
              "      <td>0.042026</td>\n",
              "      <td>0.076882</td>\n",
              "      <td>0.012172</td>\n",
              "    </tr>\n",
              "    <tr>\n",
              "      <th>1</th>\n",
              "      <td>1</td>\n",
              "      <td>0.012609</td>\n",
              "      <td>0.025994</td>\n",
              "      <td>0.009331</td>\n",
              "    </tr>\n",
              "    <tr>\n",
              "      <th>2</th>\n",
              "      <td>1</td>\n",
              "      <td>0.014172</td>\n",
              "      <td>0.046840</td>\n",
              "      <td>0.011862</td>\n",
              "    </tr>\n",
              "    <tr>\n",
              "      <th>3</th>\n",
              "      <td>1</td>\n",
              "      <td>0.021054</td>\n",
              "      <td>0.052469</td>\n",
              "      <td>0.036639</td>\n",
              "    </tr>\n",
              "    <tr>\n",
              "      <th>4</th>\n",
              "      <td>1</td>\n",
              "      <td>0.032047</td>\n",
              "      <td>0.067287</td>\n",
              "      <td>0.008199</td>\n",
              "    </tr>\n",
              "    <tr>\n",
              "      <th>...</th>\n",
              "      <td>...</td>\n",
              "      <td>...</td>\n",
              "      <td>...</td>\n",
              "      <td>...</td>\n",
              "    </tr>\n",
              "    <tr>\n",
              "      <th>64602</th>\n",
              "      <td>2</td>\n",
              "      <td>0.508130</td>\n",
              "      <td>1.898295</td>\n",
              "      <td>0.620139</td>\n",
              "    </tr>\n",
              "    <tr>\n",
              "      <th>64603</th>\n",
              "      <td>3</td>\n",
              "      <td>0.500483</td>\n",
              "      <td>1.075446</td>\n",
              "      <td>0.429588</td>\n",
              "    </tr>\n",
              "    <tr>\n",
              "      <th>64604</th>\n",
              "      <td>4</td>\n",
              "      <td>0.306296</td>\n",
              "      <td>1.012973</td>\n",
              "      <td>0.211564</td>\n",
              "    </tr>\n",
              "    <tr>\n",
              "      <th>64605</th>\n",
              "      <td>5</td>\n",
              "      <td>0.275821</td>\n",
              "      <td>0.817085</td>\n",
              "      <td>0.257127</td>\n",
              "    </tr>\n",
              "    <tr>\n",
              "      <th>64606</th>\n",
              "      <td>6</td>\n",
              "      <td>0.575350</td>\n",
              "      <td>1.223556</td>\n",
              "      <td>0.236612</td>\n",
              "    </tr>\n",
              "  </tbody>\n",
              "</table>\n",
              "<p>64607 rows × 4 columns</p>\n",
              "</div>"
            ],
            "text/plain": [
              "       label  img_distance  anomaly_score  z_distance\n",
              "0          1      0.042026       0.076882    0.012172\n",
              "1          1      0.012609       0.025994    0.009331\n",
              "2          1      0.014172       0.046840    0.011862\n",
              "3          1      0.021054       0.052469    0.036639\n",
              "4          1      0.032047       0.067287    0.008199\n",
              "...      ...           ...            ...         ...\n",
              "64602      2      0.508130       1.898295    0.620139\n",
              "64603      3      0.500483       1.075446    0.429588\n",
              "64604      4      0.306296       1.012973    0.211564\n",
              "64605      5      0.275821       0.817085    0.257127\n",
              "64606      6      0.575350       1.223556    0.236612\n",
              "\n",
              "[64607 rows x 4 columns]"
            ]
          },
          "metadata": {
            "tags": []
          },
          "execution_count": 2
        }
      ]
    },
    {
      "cell_type": "code",
      "metadata": {
        "id": "KIXtNEvtTnzJ",
        "colab_type": "code",
        "colab": {}
      },
      "source": [
        "trainig_label = 1\n",
        "labels = np.where(df[\"label\"].values == trainig_label, 0, 1)\n",
        "anomaly_score = df[\"anomaly_score\"].values\n",
        "img_distance = df[\"img_distance\"].values\n",
        "z_distance = df[\"z_distance\"].values"
      ],
      "execution_count": 0,
      "outputs": []
    },
    {
      "cell_type": "code",
      "metadata": {
        "id": "f7768OktTvs1",
        "colab_type": "code",
        "colab": {}
      },
      "source": [
        "fpr, tpr, _ = roc_curve(labels, img_distance)\n",
        "roc_auc = auc(fpr, tpr)"
      ],
      "execution_count": 0,
      "outputs": []
    },
    {
      "cell_type": "markdown",
      "metadata": {
        "id": "zVIN1nzFVTSM",
        "colab_type": "text"
      },
      "source": [
        "## Image-level anomaly detection accuracy evaluation"
      ]
    },
    {
      "cell_type": "code",
      "metadata": {
        "id": "TYRiFOzkTyuB",
        "colab_type": "code",
        "colab": {
          "base_uri": "https://localhost:8080/",
          "height": 295
        },
        "outputId": "33a2d9ef-6b9b-4557-f6ea-648db6af1d3f"
      },
      "source": [
        "plt.plot(fpr, tpr, label=f\"AUC = {roc_auc:3f}\")\n",
        "plt.plot([0, 1], [0, 1], linestyle=\"--\")\n",
        "plt.title(\"Image-level anomaly detection accuracy evaluation\")\n",
        "plt.xlabel(\"False Positive Rate\")\n",
        "plt.ylabel(\"True Positive Rate\")\n",
        "plt.legend()\n",
        "plt.show()"
      ],
      "execution_count": 5,
      "outputs": [
        {
          "output_type": "display_data",
          "data": {
            "image/png": "[encoded data removed]",
            "text/plain": [
              "<Figure size 432x288 with 1 Axes>"
            ]
          },
          "metadata": {
            "tags": []
          }
        }
      ]
    },
    {
      "cell_type": "markdown",
      "metadata": {
        "id": "WDVKS9VQVZeh",
        "colab_type": "text"
      },
      "source": [
        "## Discrete distributions of anomaly scores"
      ]
    },
    {
      "cell_type": "code",
      "metadata": {
        "id": "fbNR7SnkTzcG",
        "colab_type": "code",
        "colab": {
          "base_uri": "https://localhost:8080/",
          "height": 295
        },
        "outputId": "5a343fe6-540c-4406-874e-3b4f7066537b"
      },
      "source": [
        "plt.hist([anomaly_score[labels == 0], anomaly_score[labels == 1]],\n",
        "          bins=100, density=True, stacked=True,\n",
        "          label=[\"Normal\", \"Abnormal\"])\n",
        "plt.title(\"Discrete distributions of anomaly scores\")\n",
        "plt.xlabel(\"Anomaly scores A(x)\")\n",
        "plt.ylabel(\"h\")\n",
        "plt.legend()\n",
        "plt.show()"
      ],
      "execution_count": 6,
      "outputs": [
        {
          "output_type": "display_data",
          "data": {
            "image/png": "[encoded data removed]",
            "text/plain": [
              "<Figure size 432x288 with 1 Axes>"
            ]
          },
          "metadata": {
            "tags": []
          }
        }
      ]
    }
  ]
}