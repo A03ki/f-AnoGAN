{
  "nbformat": 4,
  "nbformat_minor": 0,
  "metadata": {
    "colab": {
      "name": "visualization.ipynb",
      "provenance": [],
      "collapsed_sections": [],
      "toc_visible": true
    },
    "kernelspec": {
      "name": "python3",
      "display_name": "Python 3"
    },
    "accelerator": "GPU"
  },
  "cells": [
    {
      "cell_type": "markdown",
      "metadata": {
        "id": "I2zfet28eX0c",
        "colab_type": "text"
      },
      "source": [
        "### Step 0:\n",
        "\n",
        "In this notebook, `torch`, `torchvision`, `matplotlib`, `numpy`, `pandas` and `sklearn` will be used.\n",
        "\n",
        "Please run below in the directory 'f-AnoGAN'."
      ]
    },
    {
      "cell_type": "code",
      "metadata": {
        "id": "GokniaaXMxbC",
        "colab_type": "code",
        "colab": {}
      },
      "source": [
        "!python setup.py install"
      ],
      "execution_count": 0,
      "outputs": []
    },
    {
      "cell_type": "code",
      "metadata": {
        "id": "sBgLs_M0Myzy",
        "colab_type": "code",
        "colab": {}
      },
      "source": [
        "%cd mnist"
      ],
      "execution_count": 0,
      "outputs": []
    },
    {
      "cell_type": "markdown",
      "metadata": {
        "id": "dN5mOyGyUP-B",
        "colab_type": "text"
      },
      "source": [
        "### Step: 1\n",
        "\n",
        "If you don't run command `python train_wgangp.py` yet, please run below."
      ]
    },
    {
      "cell_type": "code",
      "metadata": {
        "id": "tTV9PqA-Hmsy",
        "colab_type": "code",
        "colab": {}
      },
      "source": [
        "!python train_wgangp.py --training_label 1"
      ],
      "execution_count": 0,
      "outputs": []
    },
    {
      "cell_type": "markdown",
      "metadata": {
        "id": "JMaJ4gB1UVzH",
        "colab_type": "text"
      },
      "source": [
        "### Step: 2\n",
        "If you don't run command `train_z_encoding_izif.py` yet, please run below after Step: 1."
      ]
    },
    {
      "cell_type": "code",
      "metadata": {
        "id": "6V_MiML_PDR7",
        "colab_type": "code",
        "colab": {}
      },
      "source": [
        "!python train_encoder_izif.py --training_label 1"
      ],
      "execution_count": 0,
      "outputs": []
    },
    {
      "cell_type": "markdown",
      "metadata": {
        "id": "KMH6Ex6UUceG",
        "colab_type": "text"
      },
      "source": [
        "### Step: 3  \n",
        "If you don't run command `test_anomaly_detection.py` yet, please run below after Step: 2."
      ]
    },
    {
      "cell_type": "code",
      "metadata": {
        "id": "FWe_z02kRPB5",
        "colab_type": "code",
        "colab": {}
      },
      "source": [
        "!python test_anomaly_detection.py --training_label 1"
      ],
      "execution_count": 0,
      "outputs": []
    },
    {
      "cell_type": "markdown",
      "metadata": {
        "id": "0b57fMtdU5A0",
        "colab_type": "text"
      },
      "source": [
        "# Visualization\n",
        "\n",
        "Please run below after Step: 1~3."
      ]
    },
    {
      "cell_type": "code",
      "metadata": {
        "id": "dqzx_tQLSnTD",
        "colab_type": "code",
        "colab": {}
      },
      "source": [
        "import matplotlib.pyplot as plt\n",
        "import numpy as np\n",
        "import pandas as pd\n",
        "from sklearn.metrics import roc_curve, precision_recall_curve, auc"
      ],
      "execution_count": 0,
      "outputs": []
    },
    {
      "cell_type": "code",
      "metadata": {
        "id": "aKiMg3gVTmPL",
        "colab_type": "code",
        "outputId": "38480090-56fa-4aa3-f82d-117e9da9a406",
        "colab": {
          "base_uri": "https://localhost:8080/",
          "height": 419
        }
      },
      "source": [
        "df = pd.read_csv(\"results/score.csv\")\n",
        "df"
      ],
      "execution_count": 10,
      "outputs": [
        {
          "output_type": "execute_result",
          "data": {
            "text/html": [
              "<div>\n",
              "<style scoped>\n",
              "    .dataframe tbody tr th:only-of-type {\n",
              "        vertical-align: middle;\n",
              "    }\n",
              "\n",
              "    .dataframe tbody tr th {\n",
              "        vertical-align: top;\n",
              "    }\n",
              "\n",
              "    .dataframe thead th {\n",
              "        text-align: right;\n",
              "    }\n",
              "</style>\n",
              "<table border=\"1\" class=\"dataframe\">\n",
              "  <thead>\n",
              "    <tr style=\"text-align: right;\">\n",
              "      <th></th>\n",
              "      <th>label</th>\n",
              "      <th>img_distance</th>\n",
              "      <th>anomaly_score</th>\n",
              "      <th>z_distance</th>\n",
              "    </tr>\n",
              "  </thead>\n",
              "  <tbody>\n",
              "    <tr>\n",
              "      <th>0</th>\n",
              "      <td>1</td>\n",
              "      <td>0.043923</td>\n",
              "      <td>0.061597</td>\n",
              "      <td>0.011499</td>\n",
              "    </tr>\n",
              "    <tr>\n",
              "      <th>1</th>\n",
              "      <td>1</td>\n",
              "      <td>0.024846</td>\n",
              "      <td>0.046957</td>\n",
              "      <td>0.037535</td>\n",
              "    </tr>\n",
              "    <tr>\n",
              "      <th>2</th>\n",
              "      <td>1</td>\n",
              "      <td>0.025580</td>\n",
              "      <td>0.048108</td>\n",
              "      <td>0.041519</td>\n",
              "    </tr>\n",
              "    <tr>\n",
              "      <th>3</th>\n",
              "      <td>1</td>\n",
              "      <td>0.025559</td>\n",
              "      <td>0.033997</td>\n",
              "      <td>0.011542</td>\n",
              "    </tr>\n",
              "    <tr>\n",
              "      <th>4</th>\n",
              "      <td>1</td>\n",
              "      <td>0.041178</td>\n",
              "      <td>0.056016</td>\n",
              "      <td>0.009839</td>\n",
              "    </tr>\n",
              "    <tr>\n",
              "      <th>...</th>\n",
              "      <td>...</td>\n",
              "      <td>...</td>\n",
              "      <td>...</td>\n",
              "      <td>...</td>\n",
              "    </tr>\n",
              "    <tr>\n",
              "      <th>64602</th>\n",
              "      <td>2</td>\n",
              "      <td>0.466726</td>\n",
              "      <td>1.611155</td>\n",
              "      <td>0.089914</td>\n",
              "    </tr>\n",
              "    <tr>\n",
              "      <th>64603</th>\n",
              "      <td>3</td>\n",
              "      <td>0.422751</td>\n",
              "      <td>0.604128</td>\n",
              "      <td>0.180591</td>\n",
              "    </tr>\n",
              "    <tr>\n",
              "      <th>64604</th>\n",
              "      <td>4</td>\n",
              "      <td>0.329970</td>\n",
              "      <td>0.548713</td>\n",
              "      <td>0.054209</td>\n",
              "    </tr>\n",
              "    <tr>\n",
              "      <th>64605</th>\n",
              "      <td>5</td>\n",
              "      <td>0.286404</td>\n",
              "      <td>0.420012</td>\n",
              "      <td>0.114826</td>\n",
              "    </tr>\n",
              "    <tr>\n",
              "      <th>64606</th>\n",
              "      <td>6</td>\n",
              "      <td>0.676184</td>\n",
              "      <td>1.519907</td>\n",
              "      <td>0.200743</td>\n",
              "    </tr>\n",
              "  </tbody>\n",
              "</table>\n",
              "<p>64607 rows × 4 columns</p>\n",
              "</div>"
            ],
            "text/plain": [
              "       label  img_distance  anomaly_score  z_distance\n",
              "0          1      0.043923       0.061597    0.011499\n",
              "1          1      0.024846       0.046957    0.037535\n",
              "2          1      0.025580       0.048108    0.041519\n",
              "3          1      0.025559       0.033997    0.011542\n",
              "4          1      0.041178       0.056016    0.009839\n",
              "...      ...           ...            ...         ...\n",
              "64602      2      0.466726       1.611155    0.089914\n",
              "64603      3      0.422751       0.604128    0.180591\n",
              "64604      4      0.329970       0.548713    0.054209\n",
              "64605      5      0.286404       0.420012    0.114826\n",
              "64606      6      0.676184       1.519907    0.200743\n",
              "\n",
              "[64607 rows x 4 columns]"
            ]
          },
          "metadata": {
            "tags": []
          },
          "execution_count": 10
        }
      ]
    },
    {
      "cell_type": "code",
      "metadata": {
        "id": "KIXtNEvtTnzJ",
        "colab_type": "code",
        "colab": {}
      },
      "source": [
        "trainig_label = 1\n",
        "labels = np.where(df[\"label\"].values == trainig_label, 0, 1)\n",
        "anomaly_score = df[\"anomaly_score\"].values\n",
        "img_distance = df[\"img_distance\"].values\n",
        "z_distance = df[\"z_distance\"].values"
      ],
      "execution_count": 0,
      "outputs": []
    },
    {
      "cell_type": "code",
      "metadata": {
        "id": "f7768OktTvs1",
        "colab_type": "code",
        "colab": {}
      },
      "source": [
        "fpr, tpr, _ = roc_curve(labels, img_distance)\n",
        "precision, recall, _ = precision_recall_curve(labels, img_distance)\n",
        "roc_auc = auc(fpr, tpr)\n",
        "pr_auc =  auc(recall, precision)"
      ],
      "execution_count": 0,
      "outputs": []
    },
    {
      "cell_type": "markdown",
      "metadata": {
        "id": "zVIN1nzFVTSM",
        "colab_type": "text"
      },
      "source": [
        "## Image-level anomaly detection accuracy evaluation"
      ]
    },
    {
      "cell_type": "code",
      "metadata": {
        "id": "TYRiFOzkTyuB",
        "colab_type": "code",
        "outputId": "2b0ce765-abd8-4d9a-d8ea-8f19f550a395",
        "colab": {
          "base_uri": "https://localhost:8080/",
          "height": 295
        }
      },
      "source": [
        "plt.plot(fpr, tpr, label=f\"AUC = {roc_auc:3f}\")\n",
        "plt.plot([0, 1], [0, 1], linestyle=\"--\")\n",
        "plt.title(\"ROC-AUC\")\n",
        "plt.xlabel(\"False Positive Rate\")\n",
        "plt.ylabel(\"True Positive Rate\")\n",
        "plt.legend()\n",
        "plt.show()"
      ],
      "execution_count": 13,
      "outputs": [
        {
          "output_type": "display_data",
          "data": {
            "image/png": "[encoded data removed]",
            "text/plain": [
              "<Figure size 432x288 with 1 Axes>"
            ]
          },
          "metadata": {
            "tags": [],
            "needs_background": "light"
          }
        }
      ]
    },
    {
      "cell_type": "code",
      "metadata": {
        "id": "0OiAdbXfBgct",
        "colab_type": "code",
        "outputId": "1ddb7e1d-737c-4bc3-c594-5159d0b5a717",
        "colab": {
          "base_uri": "https://localhost:8080/",
          "height": 295
        }
      },
      "source": [
        "plt.plot(recall, precision, label=f\"PR = {pr_auc:3f}\")\n",
        "plt.title(\"PR-AUC\")\n",
        "plt.xlabel(\"Recall\")\n",
        "plt.ylabel(\"Pecision\")\n",
        "plt.legend()\n",
        "plt.show()"
      ],
      "execution_count": 14,
      "outputs": [
        {
          "output_type": "display_data",
          "data": {
            "image/png": "[encoded data removed]",
            "text/plain": [
              "<Figure size 432x288 with 1 Axes>"
            ]
          },
          "metadata": {
            "tags": [],
            "needs_background": "light"
          }
        }
      ]
    },
    {
      "cell_type": "markdown",
      "metadata": {
        "id": "WDVKS9VQVZeh",
        "colab_type": "text"
      },
      "source": [
        "## Discrete distributions of anomaly scores"
      ]
    },
    {
      "cell_type": "code",
      "metadata": {
        "id": "fbNR7SnkTzcG",
        "colab_type": "code",
        "outputId": "7eecd642-e0d1-4f77-f27e-8c7c4b67945b",
        "colab": {
          "base_uri": "https://localhost:8080/",
          "height": 295
        }
      },
      "source": [
        "plt.hist([anomaly_score[labels == 0], anomaly_score[labels == 1]],\n",
        "          bins=100, density=True, stacked=True,\n",
        "          label=[\"Normal\", \"Abnormal\"])\n",
        "plt.title(\"Discrete distributions of anomaly scores\")\n",
        "plt.xlabel(\"Anomaly scores A(x)\")\n",
        "plt.ylabel(\"h\")\n",
        "plt.legend()\n",
        "plt.show()"
      ],
      "execution_count": 15,
      "outputs": [
        {
          "output_type": "display_data",
          "data": {
            "image/png": "[encoded data removed]",
            "text/plain": [
              "<Figure size 432x288 with 1 Axes>"
            ]
          },
          "metadata": {
            "tags": [],
            "needs_background": "light"
          }
        }
      ]
    }
  ]
}
